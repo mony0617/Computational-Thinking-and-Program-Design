{
  "nbformat": 4,
  "nbformat_minor": 0,
  "metadata": {
    "colab": {
      "name": "week12 .ipynb",
      "provenance": [],
      "authorship_tag": "ABX9TyOCNx78p7b288GqpTRsPDSS",
      "include_colab_link": true
    },
    "kernelspec": {
      "name": "python3",
      "display_name": "Python 3"
    }
  },
  "cells": [
    {
      "cell_type": "markdown",
      "metadata": {
        "id": "view-in-github",
        "colab_type": "text"
      },
      "source": [
        "<a href=\"https://colab.research.google.com/github/mony0617/Computational-Thinking-and-Program-Design/blob/master/week12_.ipynb\" target=\"_parent\"><img src=\"https://colab.research.google.com/assets/colab-badge.svg\" alt=\"Open In Colab\"/></a>"
      ]
    },
    {
      "cell_type": "markdown",
      "metadata": {
        "id": "7y58n5ZKvaMA",
        "colab_type": "text"
      },
      "source": [
        "假設你今天要煮義大利麵：請先弄清楚你有(1)麵和(2)醬料嗎？然後就知道是否晚餐是吃義大利麵了！\n",
        "方法（一）：直接把兩個問題用and合併：你是否有麵和醬料呢？\n",
        "方法（二）：先問有沒有麵，再問有沒有醬料呢？巢狀結構"
      ]
    },
    {
      "cell_type": "code",
      "metadata": {
        "id": "Nt8cmCmW5pcH",
        "colab_type": "code",
        "colab": {
          "base_uri": "https://localhost:8080/",
          "height": 54
        },
        "outputId": "d839fd7a-3164-4185-9ccb-6ce5beb07e81"
      },
      "source": [
        "#方法1\n",
        "noodles = input(\"有麵嗎? YES or NO \")\n",
        "sause = input (\"有醬料嗎? YES or NO \")\n",
        "\n",
        "if noodles ==\"YES\" and sause ==\"YES\":\n",
        "   print(\"晚餐吃義大利麵~~\")\n",
        "if noodles ==\"NO\" and sause ==\"NO\":\n",
        "   print(\"晚餐不吃義大利麵...\") "
      ],
      "execution_count": 22,
      "outputs": [
        {
          "output_type": "stream",
          "text": [
            "有麵嗎? YES or NO NO\n",
            "有醬料嗎? YES or NO YES\n"
          ],
          "name": "stdout"
        }
      ]
    },
    {
      "cell_type": "code",
      "metadata": {
        "id": "6F6XTVUpvVkf",
        "colab_type": "code",
        "colab": {}
      },
      "source": [
        "#方法2\n",
        "noodles = input(\"有麵嗎? YES or NO \")\n",
        "sause = input (\"有醬料嗎? YES or NO \")\n",
        "\n",
        "if noodles == \"YES\":\n",
        "   if sause == \"YES\":\n",
        "     print(\"晚餐吃義大利麵~~\") \n",
        "\n",
        "if noodles == \"NO\":\n",
        "   if sause == \"NO\":\n",
        "     print(\"晚餐不吃義大利麵...\") \n",
        " \n",
        "print(\"end\")\n"
      ],
      "execution_count": 0,
      "outputs": []
    },
    {
      "cell_type": "code",
      "metadata": {
        "id": "M_QaZBeCy7OI",
        "colab_type": "code",
        "colab": {
          "base_uri": "https://localhost:8080/",
          "height": 35
        },
        "outputId": "53bf6eac-e9d8-44fb-b95a-85dfb49a06c4"
      },
      "source": [
        "#數字資料2\n",
        "\n",
        "num = int(input(\"請輸入一個數字:\"))\n",
        "if num < 10:\n",
        "  print (\"比10小的數字\")\n",
        "\n",
        "  print(\"完成!!\")"
      ],
      "execution_count": 3,
      "outputs": [
        {
          "output_type": "stream",
          "text": [
            "請輸入一個數字:11\n"
          ],
          "name": "stdout"
        }
      ]
    },
    {
      "cell_type": "code",
      "metadata": {
        "id": "7x6x5nHy0ehI",
        "colab_type": "code",
        "colab": {
          "base_uri": "https://localhost:8080/",
          "height": 72
        },
        "outputId": "c4374702-564f-442b-8852-66104b449d92"
      },
      "source": [
        "num = int(input(\"請輸入一個數字:\"))\n",
        "if num > 0:\n",
        "  print(\"是正數\")\n",
        "if num < 0:\n",
        "  print(\"是負數\")\n",
        "if num == 0:\n",
        "  print(\"數字是0\")\n",
        "print(\"比較完畢~\")"
      ],
      "execution_count": 5,
      "outputs": [
        {
          "output_type": "stream",
          "text": [
            "請輸入一個數字:100\n",
            "是正數\n",
            "比較完畢~\n"
          ],
          "name": "stdout"
        }
      ]
    },
    {
      "cell_type": "code",
      "metadata": {
        "id": "5Wn7-y8S2A5S",
        "colab_type": "code",
        "colab": {}
      },
      "source": [
        ""
      ],
      "execution_count": 0,
      "outputs": []
    }
  ]
}