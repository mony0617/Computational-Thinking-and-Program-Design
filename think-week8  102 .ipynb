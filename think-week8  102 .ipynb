{
  "nbformat": 4,
  "nbformat_minor": 0,
  "metadata": {
    "colab": {
      "name": "Untitled5.ipynb",
      "provenance": [],
      "authorship_tag": "ABX9TyMd/UdsjtcySpwSEqUYrsV8",
      "include_colab_link": true
    },
    "kernelspec": {
      "name": "python3",
      "display_name": "Python 3"
    }
  },
  "cells": [
    {
      "cell_type": "markdown",
      "metadata": {
        "id": "view-in-github",
        "colab_type": "text"
      },
      "source": [
        "<a href=\"https://colab.research.google.com/github/mony0617/Computational-Thinking-and-Program-Design/blob/master/think-week8%20%20102%20.ipynb\" target=\"_parent\"><img src=\"https://colab.research.google.com/assets/colab-badge.svg\" alt=\"Open In Colab\"/></a>"
      ]
    },
    {
      "cell_type": "code",
      "metadata": {
        "id": "qwlBO9z1qptx",
        "colab_type": "code",
        "colab": {
          "base_uri": "https://localhost:8080/",
          "height": 54
        },
        "outputId": "78055720-cc38-4a43-96cf-9fa5eec94f8e"
      },
      "source": [
        "print(\"2 hours 13 min\")#魔球片長\n",
        "print(\"133 min\")"
      ],
      "execution_count": 10,
      "outputs": [
        {
          "output_type": "stream",
          "text": [
            "2 hours 13 min\n",
            "133 min\n"
          ],
          "name": "stdout"
        }
      ]
    },
    {
      "cell_type": "code",
      "metadata": {
        "id": "9Of12TcWr4bk",
        "colab_type": "code",
        "colab": {
          "base_uri": "https://localhost:8080/",
          "height": 126
        },
        "outputId": "43c1fe42-f0f8-43ea-c2b7-3ab1a4fc44c4"
      },
      "source": [
        "hours = input(\"Enter movie time hours:\")\n",
        "minutes = input(\"Enter movie time minutes:\")\n",
        "hours = int(hours)\n",
        "minutes = int(minutes)\n",
        "\n",
        "length = hours * 60 +minutes\n",
        "print(hours,\"Hours\",minutes,\"Minutes\",\"movie lenght is\" , length)\n",
        "\n",
        "#133分鐘轉成2小時13分鐘\n",
        "#2小時\n",
        "hours1 = length // 60 #hours\n",
        "print(hours1)\n",
        "\n",
        "#13分鐘\n",
        "minutes1 =length % 60\n",
        "\n",
        "\n",
        "print(minutes1)\n",
        "print(length,\"Minutes equals\",hours1,\"Hours\",minutes1,\"Minutes\")"
      ],
      "execution_count": 17,
      "outputs": [
        {
          "output_type": "stream",
          "text": [
            "Enter movie time hours:2\n",
            "Enter movie time minutes:13\n",
            "2 Hours 13 Minutes movie lenght is 133\n",
            "2\n",
            "13\n",
            "133 Minutes equals 2 Hours 13 Minutes\n"
          ],
          "name": "stdout"
        }
      ]
    }
  ]
}