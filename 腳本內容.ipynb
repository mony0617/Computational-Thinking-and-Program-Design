{
  "nbformat": 4,
  "nbformat_minor": 0,
  "metadata": {
    "colab": {
      "name": "腳本內容.ipynb",
      "provenance": [],
      "include_colab_link": true
    },
    "kernelspec": {
      "name": "python3",
      "display_name": "Python 3"
    }
  },
  "cells": [
    {
      "cell_type": "markdown",
      "metadata": {
        "id": "view-in-github",
        "colab_type": "text"
      },
      "source": [
        "<a href=\"https://colab.research.google.com/github/mony0617/Computational-Thinking-and-Program-Design/blob/master/%E8%85%B3%E6%9C%AC%E5%85%A7%E5%AE%B9.ipynb\" target=\"_parent\"><img src=\"https://colab.research.google.com/assets/colab-badge.svg\" alt=\"Open In Colab\"/></a>"
      ]
    },
    {
      "cell_type": "markdown",
      "metadata": {
        "id": "q0U8J_LPuCv4",
        "colab_type": "text"
      },
      "source": [
        "(社團博覽會)\n",
        "哈囉!我叫做喵喵，喵~~\n",
        "你叫甚麼名字呢?喵~\n",
        "我叫XX\n",
        "你好XX，很高興認識你，喵~\n",
        "你從哪裡來?喵~\n",
        "是從xx來的喔\n",
        "喔~喵喵聽說xx是一個很美的地方，喵~\n",
        "(自行回答)\n",
        "喵喵是從喵喵星來的喵星人，喵~\n",
        "很酷吧~喵~\n",
        "你有參加過幾個社團呢，喵~\n",
        "我有參加過X個社團\n",
        "哇~好棒喔!喵~\n",
        "我只有參加過合唱團，喵~\n",
        "請問你是幾年級?喵~\n",
        "我是X年級\n",
        "喔~那不就是X歲，喵~\n",
        "喵喵我今年才18歲喔，喵~\n",
        "喵喵的興趣是追老鼠和唱歌，喵~\n",
        "你的興趣是甚麼?喵~\n",
        "是XX喔!\n",
        "喵喵也喜歡XX喔!\n",
        "希望今天的社團博覽會你能夠玩得開心，喵\n",
        "喵喵要去捉老鼠了，下次再見喔~掰掰喵~"
      ]
    },
    {
      "cell_type": "code",
      "metadata": {
        "id": "-0DxggsghQen",
        "colab_type": "code",
        "outputId": "7d566544-428c-4e8e-cfc0-4ec52eb6fed9",
        "colab": {
          "base_uri": "https://localhost:8080/",
          "height": 72
        }
      },
      "source": [
        "print('哈囉我叫做喵喵，喵~')\n",
        "name=input('你叫什麼名字呢?喵~')\n",
        "print('你好', name,'很高興認識你，喵~')"
      ],
      "execution_count": 0,
      "outputs": [
        {
          "output_type": "stream",
          "text": [
            "哈囉我叫做喵喵，喵~\n",
            "你叫什麼名字呢?喵~xx\n",
            "你好 xx 很高興認識你，喵~\n"
          ],
          "name": "stdout"
        }
      ]
    },
    {
      "cell_type": "code",
      "metadata": {
        "id": "BBf_H6Pd4T7H",
        "colab_type": "code",
        "colab": {}
      },
      "source": [
        "place=input('你是從哪裡來?喵~')"
      ],
      "execution_count": 0,
      "outputs": []
    }
  ]
}