{
  "nbformat": 4,
  "nbformat_minor": 0,
  "metadata": {
    "colab": {
      "name": "Untitled2.ipynb",
      "provenance": [],
      "authorship_tag": "ABX9TyNYhbORM266c3vkxdJKa6Z7",
      "include_colab_link": true
    },
    "kernelspec": {
      "name": "python3",
      "display_name": "Python 3"
    }
  },
  "cells": [
    {
      "cell_type": "markdown",
      "metadata": {
        "id": "view-in-github",
        "colab_type": "text"
      },
      "source": [
        "<a href=\"https://colab.research.google.com/github/mony0617/Computational-Thinking-and-Program-Design/blob/master/think-week6%20a108060102.ipynb\" target=\"_parent\"><img src=\"https://colab.research.google.com/assets/colab-badge.svg\" alt=\"Open In Colab\"/></a>"
      ]
    },
    {
      "cell_type": "code",
      "metadata": {
        "id": "GM5MC3Kt5f0G",
        "colab_type": "code",
        "colab": {
          "base_uri": "https://localhost:8080/",
          "height": 34
        },
        "outputId": "42279bf0-8a35-4be1-df7f-8a40389d7134"
      },
      "source": [
        "print(\"我的名字是\",\"陳冠宇\")"
      ],
      "execution_count": 3,
      "outputs": [
        {
          "output_type": "stream",
          "text": [
            "我的名字是 陳冠宇\n"
          ],
          "name": "stdout"
        }
      ]
    },
    {
      "cell_type": "code",
      "metadata": {
        "id": "b5nJ07yW8Pet",
        "colab_type": "code",
        "colab": {
          "base_uri": "https://localhost:8080/",
          "height": 34
        },
        "outputId": "fbeb19c5-e20f-415b-f91d-890d17f32a5b"
      },
      "source": [
        "name= \"陳冠宇\"\n",
        "print(\"我的名字是\",name)"
      ],
      "execution_count": 8,
      "outputs": [
        {
          "output_type": "stream",
          "text": [
            "我的名字是 陳冠宇\n"
          ],
          "name": "stdout"
        }
      ]
    },
    {
      "cell_type": "code",
      "metadata": {
        "id": "MooieE7h9rKq",
        "colab_type": "code",
        "colab": {
          "base_uri": "https://localhost:8080/",
          "height": 51
        },
        "outputId": "7a96e79b-c4dc-43b5-dbc4-87dde6c02140"
      },
      "source": [
        "name = input(\"請輸入你的名字\")\n",
        "print(\"名字為\",name)"
      ],
      "execution_count": 9,
      "outputs": [
        {
          "output_type": "stream",
          "text": [
            "請輸入你的名字陳冠宇\n",
            "名字為 陳冠宇\n"
          ],
          "name": "stdout"
        }
      ]
    },
    {
      "cell_type": "code",
      "metadata": {
        "id": "PoXwEc59-lhg",
        "colab_type": "code",
        "colab": {
          "base_uri": "https://localhost:8080/",
          "height": 34
        },
        "outputId": "db7d24f4-d6fd-46ed-9ab4-b13252feb6f2"
      },
      "source": [
        "print(\"我的年紀是\",18,\"歲\")"
      ],
      "execution_count": 13,
      "outputs": [
        {
          "output_type": "stream",
          "text": [
            "我的年紀是 18 歲\n"
          ],
          "name": "stdout"
        }
      ]
    },
    {
      "cell_type": "code",
      "metadata": {
        "id": "okmiGYEL_FhA",
        "colab_type": "code",
        "colab": {
          "base_uri": "https://localhost:8080/",
          "height": 34
        },
        "outputId": "578be48d-bd85-483d-ee1a-2f0ce61d25d7"
      },
      "source": [
        "year = 18\n",
        "print(\"我的年紀是\",year,\"歲\")"
      ],
      "execution_count": 12,
      "outputs": [
        {
          "output_type": "stream",
          "text": [
            "我的年紀是 18 歲\n"
          ],
          "name": "stdout"
        }
      ]
    },
    {
      "cell_type": "code",
      "metadata": {
        "id": "UnvzSJcc_nTI",
        "colab_type": "code",
        "colab": {
          "base_uri": "https://localhost:8080/",
          "height": 51
        },
        "outputId": "85f0e491-79e2-4397-98f1-0d903d04ec82"
      },
      "source": [
        "year = input(\"請輸入你的年紀\")\n",
        "print(\"年紀為\",year,\"歲\")"
      ],
      "execution_count": 15,
      "outputs": [
        {
          "output_type": "stream",
          "text": [
            "請輸入你的年紀18\n",
            "年紀為 18 歲\n"
          ],
          "name": "stdout"
        }
      ]
    },
    {
      "cell_type": "code",
      "metadata": {
        "id": "AafuG_tJASI2",
        "colab_type": "code",
        "colab": {
          "base_uri": "https://localhost:8080/",
          "height": 34
        },
        "outputId": "9355bc9e-df2c-4977-911e-2b08eba203c1"
      },
      "source": [
        "print(\"我的體重為\",49,\"公斤\")"
      ],
      "execution_count": 17,
      "outputs": [
        {
          "output_type": "stream",
          "text": [
            "我的體重為 49 公斤\n"
          ],
          "name": "stdout"
        }
      ]
    },
    {
      "cell_type": "code",
      "metadata": {
        "id": "vycCf-FBAhvV",
        "colab_type": "code",
        "colab": {
          "base_uri": "https://localhost:8080/",
          "height": 34
        },
        "outputId": "ed1a1c2d-6541-46cb-ddd1-fbf1779506b1"
      },
      "source": [
        "weight = 49\n",
        "print(\"我的體重為\", weight,\"公斤\")"
      ],
      "execution_count": 18,
      "outputs": [
        {
          "output_type": "stream",
          "text": [
            "我的體重為 49 公斤\n"
          ],
          "name": "stdout"
        }
      ]
    },
    {
      "cell_type": "code",
      "metadata": {
        "id": "Hqyw6hOAAxYC",
        "colab_type": "code",
        "colab": {
          "base_uri": "https://localhost:8080/",
          "height": 51
        },
        "outputId": "cecf684b-a4a2-4aaa-df43-1bf8440dfaa2"
      },
      "source": [
        "weight =input(\"請輸入你的體重\")\n",
        "print(\"體重為\",weight,\"公斤\")"
      ],
      "execution_count": 19,
      "outputs": [
        {
          "output_type": "stream",
          "text": [
            "請輸入你的體重49\n",
            "體重為 49 公斤\n"
          ],
          "name": "stdout"
        }
      ]
    }
  ]
}