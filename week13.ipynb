{
  "nbformat": 4,
  "nbformat_minor": 0,
  "metadata": {
    "colab": {
      "name": "Untitled8.ipynb",
      "provenance": [],
      "authorship_tag": "ABX9TyMNdugAIyL4ejFkutF+AU6i",
      "include_colab_link": true
    },
    "kernelspec": {
      "name": "python3",
      "display_name": "Python 3"
    }
  },
  "cells": [
    {
      "cell_type": "markdown",
      "metadata": {
        "id": "view-in-github",
        "colab_type": "text"
      },
      "source": [
        "<a href=\"https://colab.research.google.com/github/mony0617/Computational-Thinking-and-Program-Design/blob/master/week13.ipynb\" target=\"_parent\"><img src=\"https://colab.research.google.com/assets/colab-badge.svg\" alt=\"Open In Colab\"/></a>"
      ]
    },
    {
      "cell_type": "code",
      "metadata": {
        "id": "BL7J7FpWnyg5",
        "colab_type": "code",
        "colab": {
          "base_uri": "https://localhost:8080/",
          "height": 54
        },
        "outputId": "9d85d659-54d4-4565-d108-04e98322a4d1"
      },
      "source": [
        "#及格或不及格\n",
        "\n",
        "mark=int(input(\"請輸入你的分數\"))\n",
        "\n",
        "if mark >= 60:\n",
        "  print(\"You pass~\")\n",
        "\n",
        "else :\n",
        "  print(\"sorry~ you do not pass ...\")\n",
        " "
      ],
      "execution_count": 5,
      "outputs": [
        {
          "output_type": "stream",
          "text": [
            "請輸入你的分數61\n",
            "pass~\n"
          ],
          "name": "stdout"
        }
      ]
    },
    {
      "cell_type": "code",
      "metadata": {
        "id": "fx_uOQXB4drQ",
        "colab_type": "code",
        "colab": {
          "base_uri": "https://localhost:8080/",
          "height": 54
        },
        "outputId": "2cf56eac-88aa-408d-fd81-9839d6091cbc"
      },
      "source": [
        "#成績判斷 \n",
        "#作業：請用單向選擇、雙向選擇與多向選擇三種方式來回答下面的題目。\n",
        "#寫一個程式若成績大於等於80分(>=80)，評語為「非常好」；否則若成績大於等於60分(>=60)，評語為「不錯喔」；否則(<60)評語為「要加油」。\n",
        "\n",
        "##單向選擇 if\n",
        "\n",
        "score =int(input(\"請輸入你的分數 : \"))\n",
        "\n",
        "if score >=80 :\n",
        "   print(\"非常好~\")\n",
        "if 80 > score >= 60:\n",
        "   print(\"過了!還不錯喔~\")   \n",
        "if score < 60:\n",
        "   print(\"沒過沒關係，要再努力!\")   \n",
        "\n",
        "\n"
      ],
      "execution_count": 9,
      "outputs": [
        {
          "output_type": "stream",
          "text": [
            "請輸入你的分數 : 72\n",
            "過了!還不錯喔~\n"
          ],
          "name": "stdout"
        }
      ]
    },
    {
      "cell_type": "code",
      "metadata": {
        "id": "TLUzYVy35SBJ",
        "colab_type": "code",
        "colab": {
          "base_uri": "https://localhost:8080/",
          "height": 72
        },
        "outputId": "7aa7f069-ca9d-4a66-c4c9-ed9c3dde70c1"
      },
      "source": [
        "##雙向選擇(1) if else\n",
        "score =int(input(\"請輸入你的分數 : \"))\n",
        "if score >= 80:\n",
        " print(\"非常好~\")\n",
        "else :\n",
        "  print(\"再加油就80了喔~\")\n",
        "  if score >= 60:\n",
        "    print(\"過了很棒!\")\n",
        "  else:\n",
        "    print(\"沒過沒關係，要再努力!\")"
      ],
      "execution_count": 13,
      "outputs": [
        {
          "output_type": "stream",
          "text": [
            "請輸入你的分數 : 59\n",
            "再加油就80了喔~\n",
            "沒過沒關係，要再努力\n"
          ],
          "name": "stdout"
        }
      ]
    },
    {
      "cell_type": "code",
      "metadata": {
        "id": "2Ex-M31P-oqh",
        "colab_type": "code",
        "colab": {
          "base_uri": "https://localhost:8080/",
          "height": 72
        },
        "outputId": "b59e71b6-f30a-486f-e452-433f8ae45f5c"
      },
      "source": [
        "##雙向選擇(2) if else\n",
        "score =int(input(\"請輸入你的分數 : \"))\n",
        "if score <60:\n",
        " print(\"沒過沒關係，要再努力!\")\n",
        "else :\n",
        "  print(\"過了，非常棒喔~\")\n",
        "  if score >= 80:\n",
        "    print(\"非常好喔~!\")\n",
        "  else:\n",
        "    print(\"沒過沒關係，要再努力!\")"
      ],
      "execution_count": 20,
      "outputs": [
        {
          "output_type": "stream",
          "text": [
            "請輸入你的分數 : 80\n",
            "過了，非常棒喔~\n",
            "非常好喔~!\n"
          ],
          "name": "stdout"
        }
      ]
    },
    {
      "cell_type": "code",
      "metadata": {
        "id": "CSYpRkd55SPP",
        "colab_type": "code",
        "colab": {
          "base_uri": "https://localhost:8080/",
          "height": 54
        },
        "outputId": "2f6b216d-321e-4817-aed7-3c615ccc21d5"
      },
      "source": [
        "##多向選擇 if elif else\n",
        "score =int(input(\"請輸入你的分數 : \"))\n",
        "\n",
        "if score >=80:\n",
        "   print(\"非常好~\")\n",
        "elif score >=60:\n",
        "   print(\"很棒喔~過了\")\n",
        "else :\n",
        "   print(\"沒過沒關係，要再努力喔~\")\n"
      ],
      "execution_count": 17,
      "outputs": [
        {
          "output_type": "stream",
          "text": [
            "請輸入你的分數 : 69\n",
            "很棒喔~過了\n"
          ],
          "name": "stdout"
        }
      ]
    }
  ]
}