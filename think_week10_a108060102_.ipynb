{
  "nbformat": 4,
  "nbformat_minor": 0,
  "metadata": {
    "colab": {
      "name": "think-week10-a108060102 .ipynb",
      "provenance": [],
      "authorship_tag": "ABX9TyMIouUejoFgBbwTzVJnl99T",
      "include_colab_link": true
    },
    "kernelspec": {
      "name": "python3",
      "display_name": "Python 3"
    }
  },
  "cells": [
    {
      "cell_type": "markdown",
      "metadata": {
        "id": "view-in-github",
        "colab_type": "text"
      },
      "source": [
        "<a href=\"https://colab.research.google.com/github/mony0617/Computational-Thinking-and-Program-Design/blob/master/think_week10_a108060102_.ipynb\" target=\"_parent\"><img src=\"https://colab.research.google.com/assets/colab-badge.svg\" alt=\"Open In Colab\"/></a>"
      ]
    },
    {
      "cell_type": "code",
      "metadata": {
        "id": "KP3LgWXUq3P9",
        "colab_type": "code",
        "outputId": "0d1dc8ce-a977-4355-a82a-ce37b1b2fe93",
        "colab": {
          "base_uri": "https://localhost:8080/",
          "height": 90
        }
      },
      "source": [
        "#假設上衣300元、褲子350元與背心400元，使用者可以自行輸入三種服裝的數量，請設計一個程式計算訂購服裝的總金額。\n",
        "\n",
        "上衣數量 =(int(input(\"請輸入上衣數量:\")))#int為取整數\n",
        "褲子數量 =(int(input(\"請輸入褲子數量:\")))\n",
        "背心數量 =(int(input(\"請輸入背心數量:\")))\n",
        "總金額 = 300*上衣數量 +350*褲子數量+400*背心數量\n",
        "print(\"訂購服裝總金額為\" , 總金額)"
      ],
      "execution_count": 0,
      "outputs": [
        {
          "output_type": "stream",
          "text": [
            "請輸入上衣數量:1\n",
            "請輸入褲子數量:1\n",
            "請輸入背心數量:1\n",
            "訂購服裝總金額為 1050\n"
          ],
          "name": "stdout"
        }
      ]
    },
    {
      "cell_type": "code",
      "metadata": {
        "id": "ajLAAMizss39",
        "colab_type": "code",
        "outputId": "78a62d97-589c-4847-9816-849273217df2",
        "colab": {
          "base_uri": "https://localhost:8080/",
          "height": 54
        }
      },
      "source": [
        "#為了刺激銷售量，賣場通常買一打會比買一罐便宜，假設一罐賣20元，一打賣200元，請設計一個程式計算買幾罐需花多少錢，若不足一打就個別買。\n",
        "h =(int(input(\"請輸入購買數量:\")))\n",
        "一打 =(h//12)#\"//\"取整數\n",
        "未足一打 =(h%12)#\"%\"為取餘數\n",
        "總金額 = (一打*200+未足一打*20)\n",
        "print(\"購買總金額為\" ,總金額)\n"
      ],
      "execution_count": 0,
      "outputs": [
        {
          "output_type": "stream",
          "text": [
            "請輸入購買數量:13\n",
            "購買總金額為 220\n"
          ],
          "name": "stdout"
        }
      ]
    },
    {
      "cell_type": "code",
      "metadata": {
        "id": "CJILf4-es-Pc",
        "colab_type": "code",
        "outputId": "29bc3971-08be-41be-8577-82a6e66bdf70",
        "colab": {
          "base_uri": "https://localhost:8080/",
          "height": 108
        }
      },
      "source": [
        "#請輸入第一次期中考、第二次期中考與期末考成績，成績皆為整數，請計算分數的加總與平均。\n",
        "\n",
        "exam1 =(int(input(\"請輸入第一次期中考\")))\n",
        "exam2 =(int(input(\"請輸入第二次期中考\")))\n",
        "exam3 =(int(input(\"請輸入期末考\")))\n",
        "分數加總 = exam1 + exam2 + exam3\n",
        "平均 = 分數加總/3\n",
        "print(\"三次考試分數加總為 :\",分數加總)\n",
        "print(\"平均為:\", 平均)"
      ],
      "execution_count": 0,
      "outputs": [
        {
          "output_type": "stream",
          "text": [
            "請輸入第一次期中考56\n",
            "請輸入第二次期中考60\n",
            "請輸入期末考90\n",
            "三次考試分數加總為 : 206\n",
            "平均為: 68.66666666666667\n"
          ],
          "name": "stdout"
        }
      ]
    }
  ]
}