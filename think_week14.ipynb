{
  "nbformat": 4,
  "nbformat_minor": 0,
  "metadata": {
    "colab": {
      "name": "think-week14",
      "provenance": [],
      "authorship_tag": "ABX9TyPiNTyXpruGWWPvJRxwTRr4",
      "include_colab_link": true
    },
    "kernelspec": {
      "name": "python3",
      "display_name": "Python 3"
    }
  },
  "cells": [
    {
      "cell_type": "markdown",
      "metadata": {
        "id": "view-in-github",
        "colab_type": "text"
      },
      "source": [
        "<a href=\"https://colab.research.google.com/github/mony0617/Computational-Thinking-and-Program-Design/blob/master/think_week14.ipynb\" target=\"_parent\"><img src=\"https://colab.research.google.com/assets/colab-badge.svg\" alt=\"Open In Colab\"/></a>"
      ]
    },
    {
      "cell_type": "code",
      "metadata": {
        "id": "TH0lHNSPqUVL",
        "colab_type": "code",
        "colab": {
          "base_uri": "https://localhost:8080/",
          "height": 90
        },
        "outputId": "d5f4ec7f-34cc-4b9b-a714-03c78d8f1a90"
      },
      "source": [
        "#作業1\n",
        "\n",
        "w = float(input(\"輸入你的體重  \"))\n",
        "h = float(input(\"輸入你的身高  \"))\n",
        "\n",
        "BMI = w / (h*h)\n",
        "\n",
        "print(\"BMI指數為\",BMI)\n",
        "\n",
        "if BMI < 18 :\n",
        "      print(\"體重輕的像一張紙....過輕\")\n",
        "elif BMI < 24 :\n",
        "      print(\"體重嘟嘟好~正常\")\n",
        "elif BMI < 27 :\n",
        "      print(\"體重有點過重囉 注意一下!!\") \n",
        "else :\n",
        "      print(\"體重肥胖!!\")\n",
        "      \n",
        "        \n",
        "          "
      ],
      "execution_count": 3,
      "outputs": [
        {
          "output_type": "stream",
          "text": [
            "輸入你的體重  49\n",
            "輸入你的身高  1.7\n",
            "BMI指數為 16.955017301038065\n",
            "體重輕的像一張紙....過輕\n"
          ],
          "name": "stdout"
        }
      ]
    },
    {
      "cell_type": "code",
      "metadata": {
        "id": "Eo7AKKFa8_dB",
        "colab_type": "code",
        "colab": {
          "base_uri": "https://localhost:8080/",
          "height": 381
        },
        "outputId": "3566328c-f9fc-4ef4-8875-2df1c25a7853"
      },
      "source": [
        "#作業2\n",
        "n =0 \n",
        "\n",
        "while n <10 :\n",
        "  n=n+1\n",
        "  print(n)\n",
        "  print(\"Hello，你好嗎！\")"
      ],
      "execution_count": 9,
      "outputs": [
        {
          "output_type": "stream",
          "text": [
            "1\n",
            "Hello，你好嗎！\n",
            "2\n",
            "Hello，你好嗎！\n",
            "3\n",
            "Hello，你好嗎！\n",
            "4\n",
            "Hello，你好嗎！\n",
            "5\n",
            "Hello，你好嗎！\n",
            "6\n",
            "Hello，你好嗎！\n",
            "7\n",
            "Hello，你好嗎！\n",
            "8\n",
            "Hello，你好嗎！\n",
            "9\n",
            "Hello，你好嗎！\n",
            "10\n",
            "Hello，你好嗎！\n"
          ],
          "name": "stdout"
        }
      ]
    }
  ]
}