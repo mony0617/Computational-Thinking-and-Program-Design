{
  "nbformat": 4,
  "nbformat_minor": 0,
  "metadata": {
    "colab": {
      "name": "Untitled3.ipynb",
      "provenance": [],
      "authorship_tag": "ABX9TyPfiOF14eOU5U29hM6Ju4q8",
      "include_colab_link": true
    },
    "kernelspec": {
      "name": "python3",
      "display_name": "Python 3"
    }
  },
  "cells": [
    {
      "cell_type": "markdown",
      "metadata": {
        "id": "view-in-github",
        "colab_type": "text"
      },
      "source": [
        "<a href=\"https://colab.research.google.com/github/mony0617/Computational-Thinking-and-Program-Design/blob/master/think_week7.ipynb\" target=\"_parent\"><img src=\"https://colab.research.google.com/assets/colab-badge.svg\" alt=\"Open In Colab\"/></a>"
      ]
    },
    {
      "cell_type": "code",
      "metadata": {
        "id": "4jl0SHpEomRU",
        "colab_type": "code",
        "colab": {
          "base_uri": "https://localhost:8080/",
          "height": 181
        },
        "outputId": "1dfd009d-c19d-4784-b669-4a5062553c94"
      },
      "source": [
        "# 韓劇梨泰院相關資訊的取得與列印\n",
        "#1. 從IMDB電影資料庫找出要記錄的梨泰院相關資訊\n",
        "##網址:https://www.imdb.com/title/tt11239552/\n",
        "TV_drama_title =\"梨泰院\" #韓劇名稱\n",
        "release_year =\"2020\" #上映年份\n",
        "TV_drama_time_min=1120 #總劇長\n",
        "TV_drama_rating =8.3 \n",
        "\n",
        "director = \"金成允\"\n",
        "star_1 = \"Seo-joon-Park\" \n",
        "star_2 = \"Da-mi-Kim\"\n",
        "star_3 = \"Jae-myung-Yoo\" \n",
        "\n",
        "like =5 #你喜不喜歡 但我尚未看\n",
        "\n",
        "print(TV_drama_title)\n",
        "print(release_year)\n",
        "print(TV_drama_time_min)\n",
        "print(TV_drama_rating)\n",
        "print(director)\n",
        "print(star_1)\n",
        "print(star_2)\n",
        "print(star_3)\n",
        "print(like)\n",
        "\n"
      ],
      "execution_count": 14,
      "outputs": [
        {
          "output_type": "stream",
          "text": [
            "梨泰院\n",
            "2020\n",
            "1120\n",
            "8.3\n",
            "金成允\n",
            "Seo-joon-Park\n",
            "Da-mi-Kim\n",
            "Jae-myung-Yoo\n",
            "5\n"
          ],
          "name": "stdout"
        }
      ]
    }
  ]
}