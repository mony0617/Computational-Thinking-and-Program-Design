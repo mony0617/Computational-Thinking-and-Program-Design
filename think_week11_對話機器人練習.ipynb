{
  "nbformat": 4,
  "nbformat_minor": 0,
  "metadata": {
    "colab": {
      "name": "think-week11 對話機器人練習.ipynb",
      "provenance": [],
      "authorship_tag": "ABX9TyPFp3RnQPk74NZJi7aUVq7O",
      "include_colab_link": true
    },
    "kernelspec": {
      "name": "python3",
      "display_name": "Python 3"
    }
  },
  "cells": [
    {
      "cell_type": "markdown",
      "metadata": {
        "id": "view-in-github",
        "colab_type": "text"
      },
      "source": [
        "<a href=\"https://colab.research.google.com/github/mony0617/Computational-Thinking-and-Program-Design/blob/master/think_week11_%E5%B0%8D%E8%A9%B1%E6%A9%9F%E5%99%A8%E4%BA%BA%E7%B7%B4%E7%BF%92.ipynb\" target=\"_parent\"><img src=\"https://colab.research.google.com/assets/colab-badge.svg\" alt=\"Open In Colab\"/></a>"
      ]
    },
    {
      "cell_type": "code",
      "metadata": {
        "id": "FruugrDrjwYi",
        "colab_type": "code",
        "colab": {
          "base_uri": "https://localhost:8080/",
          "height": 442
        },
        "outputId": "fec7de3c-9708-4081-f86a-7e546bb0d0e8"
      },
      "source": [
        "#聊天機器人自我介紹\n",
        "print(\"哈囉。我是jimmy。我是一個聊天機器人。\")\n",
        "print(\"我喜歡動物,也喜歡聊食物。\")\n",
        "\n",
        "# 取得使用者名字\n",
        "name = input(\"你叫什麼名字?: \")\n",
        "# 打招呼\n",
        "print(\"你好\", name, \"很高興認識你\")\n",
        "\n",
        "# 從使用者取得今年年份\n",
        "year = input(\"我記不太清楚日期。今年是幾年?: \")\n",
        "print(\"好的,我覺得沒錯。謝謝!\")\n",
        "# 請使用者猜年齡\n",
        "myage = input(\"你能猜出我的年齡嗎? - 輸入一個數字: \")\n",
        "print(\"沒錯,你猜對了。我\", myage)\n",
        "# 計算聊天機器人滿100歲的年份\n",
        "myage = int(myage)\n",
        "nyears = 100 - myage\n",
        "print(\"我再\", nyears, \"年就滿100歲了。\")\n",
        "print(\"到時候是\", int(year) + nyears) # 將今年年份轉換為整數\n",
        "\n",
        "print(\"我喜歡布丁,也喜歡嘗試各種新食物。\")\n",
        "food = input(\"你呢。你最喜歡的食物是什麼?: \")\n",
        "print(\"我也喜歡\", food)\n",
        "question = \"你多久吃一次\" + food + \"?: \"\n",
        "howoften = input(question)\n",
        "print(\"真有趣。不知道這樣對健康好不好!\")\n",
        "\n",
        "# 動物話題\n",
        "animal = input(\"我最喜歡的動物是貓熊。你呢?; \")\n",
        "print(animal, \"! 我不喜歡。\")\n",
        "print(\"不知道\", animal, \"喜不喜歡吃\", food, \"?\")\n",
        "\n",
        "# 關於心情的對話\n",
        "feeling = input(\"你今天覺得如何?; \")\n",
        "print(\"為什麼你現在覺得\", feeling, \"呢?\")\n",
        "reason = input(\"請告訴我: \")\n",
        "print(\"我知道了。謝謝分享。\")\n",
        "\n",
        "# 道別\n",
        "print(\"今天事情真多!\")\n",
        "print(\"我累到無法繼續聊天了,之後再聊。\")\n",
        "print(\"再見\", name, \"我喜歡跟你聊天!\")"
      ],
      "execution_count": 6,
      "outputs": [
        {
          "output_type": "stream",
          "text": [
            "哈囉。我是jimmy。我是一個聊天機器人。\n",
            "我喜歡動物,也喜歡聊食物。\n",
            "你叫什麼名字?: 宇宇\n",
            "你好 宇宇 很高興認識你\n",
            "我記不太清楚日期。今年是幾年?: 2020\n",
            "好的,我覺得沒錯。謝謝!\n",
            "你能猜出我的年齡嗎? - 輸入一個數字: 19\n",
            "沒錯,你猜對了。我 19\n",
            "我再 81 年就滿100歲了。\n",
            "到時候是 2101\n",
            "我喜歡布丁,也喜歡嘗試各種新食物。\n",
            "你呢。你最喜歡的食物是什麼?: 果凍\n",
            "我也喜歡 果凍\n",
            "你多久吃一次果凍?: 每天 哈哈\n",
            "真有趣。不知道這樣對健康好不好!\n",
            "我最喜歡的動物是貓熊。你呢?; 貓咪\n",
            "貓咪 ! 我不喜歡。\n",
            "不知道 貓咪 喜不喜歡吃 果凍 ?\n",
            "你今天覺得如何?; 還可以啦~\n",
            "為什麼你現在覺得 還可以啦~ 呢?\n",
            "請告訴我: 因為沒有真的很開心的事...\n",
            "我知道了。謝謝分享。\n",
            "今天事情真多!\n",
            "我累到無法繼續聊天了,之後再聊。\n",
            "再見 宇宇 我喜歡跟你聊天!\n"
          ],
          "name": "stdout"
        }
      ]
    }
  ]
}